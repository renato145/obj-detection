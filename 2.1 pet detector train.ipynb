{
 "cells": [
  {
   "cell_type": "markdown",
   "metadata": {},
   "source": [
    "# To get data and labels:\n",
    "```\n",
    "wget http://www.robots.ox.ac.uk/~vgg/data/pets/data/images.tar.gz\n",
    "wget http://www.robots.ox.ac.uk/~vgg/data/pets/data/annotations.tar.gz\n",
    "tar -xvf images.tar.gz\n",
    "tar -xvf annotations.tar.gz\n",
    "```\n",
    "\n",
    "# Convert to TFRecord format\n",
    "```\n",
    "python ../models/research/object_detection/dataset_tools/create_pet_tf_record.py \\\n",
    "    --label_map_path=../models/research/object_detection/data/pet_label_map.pbtxt \\\n",
    "    --data_dir=pet_detector \\\n",
    "    --output_dir=pet_detector\n",
    "```\n",
    "\n",
    "# Download pretrained model\n",
    "```\n",
    "wget http://download.tensorflow.org/models/object_detection/faster_rcnn_resnet50_coco_2018_01_28.tar.gz\n",
    "tar -xvf faster_rcnn_resnet50_coco_2018_01_28.tar.gz\n",
    "```\n",
    "\n",
    "# Object detection pipeline\n",
    "```\n",
    "cp pet_detector/faster_rcnn_resnet50_coco_2018_01_28/model.ckpt.* pet_detector/\n",
    "cp ../models/research/object_detection/data/pet_label_map.pbtxt pet_detector/\n",
    "cp ../models/research/object_detection/samples/configs/faster_rcnn_resnet50_pets.config pet_detector/\n",
    "sed -i 's|PATH_TO_BE_CONFIGURED|/home/rhermoza/github/obj-detection/pet_detector|g' pet_detector/faster_rcnn_resnet50_coco_2018_01_28/faster_rcnn_resnet50_pets.config\n",
    "```\n",
    "\n",
    "# Create train and eval folders\n",
    "```\n",
    "mkdir pet_detector/train\n",
    "mkdir pet_detector/eval\n",
    "```\n",
    "\n",
    "# Install pycocotools\n",
    "```\n",
    "git clone https://github.com/pdollar/coco.git\n",
    "\n",
    "cd coco/PythonAPI\n",
    "make\n",
    "make install\n",
    "python setup.py install\n",
    "```\n",
    "\n",
    "# Run train job\n",
    "```\n",
    "python ../models/research/object_detection/train.py \\\n",
    "    --logtostderr \\\n",
    "    --pipeline_config_path=pet_detector/faster_rcnn_resnet50_pets.config \\\n",
    "    --train_dir=pet_detector/train\n",
    "```\n",
    "\n",
    "# Run eval job\n",
    "```\n",
    "python ../models/research/object_detection/eval_cpu.py \\\n",
    "    --logtostderr \\\n",
    "    --pipeline_config_path=pet_detector/faster_rcnn_resnet50_pets.config \\\n",
    "    --checkpoint_dir=pet_detector/train \\\n",
    "    --eval_dir=pet_detector/eval\n",
    "```\n",
    "eval_cpu.py have this line added to force no gpu use:\n",
    "```\n",
    "os.environ['CUDA_VISIBLE_DEVICES'] = '-1'\n",
    "```\n",
    "\n",
    "#  Start tensorboard\n",
    "```\n",
    "tensorboard --logdir=pet_detector\n",
    "```\n",
    "# Exporting the Tensorflow Graph\n",
    "```\n",
    "# note the checkpoint number (ex: 44594)\n",
    "python ../models/research/object_detection/export_inference_graph.py \\\n",
    "    --input_type image_tensor \\\n",
    "    --pipeline_config_path pet_detector/faster_rcnn_resnet50_pets.config \\\n",
    "    --trained_checkpoint_prefix pet_detector/train/model.ckpt-44594 \\\n",
    "    --output_directory pet_detector/exported_graphs\n",
    "```\n"
   ]
  },
  {
   "cell_type": "code",
   "execution_count": 72,
   "metadata": {},
   "outputs": [
    {
     "name": "stdout",
     "output_type": "stream",
     "text": [
      "checkpoint\t\t\tmodel.ckpt.index  saved_model\r\n",
      "frozen_inference_graph.pb\tmodel.ckpt.meta\r\n",
      "model.ckpt.data-00000-of-00001\tpipeline.config\r\n"
     ]
    }
   ],
   "source": [
    "!ls pet_detector/exported_graphs/"
   ]
  },
  {
   "cell_type": "code",
   "execution_count": null,
   "metadata": {},
   "outputs": [],
   "source": []
  }
 ],
 "metadata": {
  "kernelspec": {
   "display_name": "Python 3",
   "language": "python",
   "name": "python3"
  },
  "language_info": {
   "codemirror_mode": {
    "name": "ipython",
    "version": 3
   },
   "file_extension": ".py",
   "mimetype": "text/x-python",
   "name": "python",
   "nbconvert_exporter": "python",
   "pygments_lexer": "ipython3",
   "version": "3.6.4"
  }
 },
 "nbformat": 4,
 "nbformat_minor": 2
}
